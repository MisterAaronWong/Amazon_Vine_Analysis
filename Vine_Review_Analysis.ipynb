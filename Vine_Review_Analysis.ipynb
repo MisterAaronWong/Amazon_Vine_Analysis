{
  "nbformat": 4,
  "nbformat_minor": 0,
  "metadata": {
    "colab": {
      "name": "Vine_Review_Analysis.ipynb",
      "provenance": []
    },
    "kernelspec": {
      "name": "python3",
      "display_name": "Python 3"
    },
    "language_info": {
      "name": "python"
    }
  },
  "cells": [
    {
      "cell_type": "code",
      "execution_count": 1,
      "metadata": {
        "colab": {
          "base_uri": "https://localhost:8080/"
        },
        "id": "WNAcDN6Ywic2",
        "outputId": "57b054a9-004e-4159-9a87-94df3c6fb4bd"
      },
      "outputs": [
        {
          "output_type": "stream",
          "name": "stdout",
          "text": [
            "\r0% [Working]\r            \rHit:1 https://cloud.r-project.org/bin/linux/ubuntu bionic-cran40/ InRelease\n",
            "Ign:2 https://developer.download.nvidia.com/compute/cuda/repos/ubuntu1804/x86_64  InRelease\n",
            "Ign:3 https://developer.download.nvidia.com/compute/machine-learning/repos/ubuntu1804/x86_64  InRelease\n",
            "Hit:4 https://developer.download.nvidia.com/compute/cuda/repos/ubuntu1804/x86_64  Release\n",
            "Hit:5 https://developer.download.nvidia.com/compute/machine-learning/repos/ubuntu1804/x86_64  Release\n",
            "Get:6 http://security.ubuntu.com/ubuntu bionic-security InRelease [88.7 kB]\n",
            "Hit:7 http://ppa.launchpad.net/c2d4u.team/c2d4u4.0+/ubuntu bionic InRelease\n",
            "Hit:8 http://archive.ubuntu.com/ubuntu bionic InRelease\n",
            "Get:9 http://archive.ubuntu.com/ubuntu bionic-updates InRelease [88.7 kB]\n",
            "Hit:10 http://ppa.launchpad.net/cran/libgit2/ubuntu bionic InRelease\n",
            "Hit:12 http://ppa.launchpad.net/deadsnakes/ppa/ubuntu bionic InRelease\n",
            "Get:14 http://archive.ubuntu.com/ubuntu bionic-backports InRelease [74.6 kB]\n",
            "Hit:15 http://ppa.launchpad.net/graphics-drivers/ppa/ubuntu bionic InRelease\n",
            "Fetched 252 kB in 4s (64.3 kB/s)\n",
            "Reading package lists... Done\n"
          ]
        }
      ],
      "source": [
        "import os\n",
        "# Find the latest version of spark 3.0 from http://www.apache.org/dist/spark/ and enter as the spark version\n",
        "# For example:\n",
        "# spark_version = 'spark-3.0.3'\n",
        "spark_version = 'spark-3.0.3'\n",
        "os.environ['SPARK_VERSION']=spark_version\n",
        "\n",
        "# Install Spark and Java\n",
        "!apt-get update\n",
        "!apt-get install openjdk-11-jdk-headless -qq > /dev/null\n",
        "!wget -q http://www.apache.org/dist/spark/$SPARK_VERSION/$SPARK_VERSION-bin-hadoop2.7.tgz\n",
        "!tar xf $SPARK_VERSION-bin-hadoop2.7.tgz\n",
        "!pip install -q findspark\n",
        "\n",
        "# Set Environment Variables\n",
        "import os\n",
        "os.environ[\"JAVA_HOME\"] = \"/usr/lib/jvm/java-11-openjdk-amd64\"\n",
        "os.environ[\"SPARK_HOME\"] = f\"/content/{spark_version}-bin-hadoop2.7\"\n",
        "\n",
        "# Start a SparkSession\n",
        "import findspark\n",
        "findspark.init()"
      ]
    },
    {
      "cell_type": "code",
      "source": [
        "# Download the Postgres driver that will allow Spark to interact with Postgres.\n",
        "!wget https://jdbc.postgresql.org/download/postgresql-42.2.16.jar"
      ],
      "metadata": {
        "colab": {
          "base_uri": "https://localhost:8080/"
        },
        "id": "KBOzv0-Lxgk6",
        "outputId": "9ba68cb5-b449-4270-a70b-b86d572a81b0"
      },
      "execution_count": 2,
      "outputs": [
        {
          "output_type": "stream",
          "name": "stdout",
          "text": [
            "--2022-01-25 02:53:28--  https://jdbc.postgresql.org/download/postgresql-42.2.16.jar\n",
            "Resolving jdbc.postgresql.org (jdbc.postgresql.org)... 72.32.157.228, 2001:4800:3e1:1::228\n",
            "Connecting to jdbc.postgresql.org (jdbc.postgresql.org)|72.32.157.228|:443... connected.\n",
            "HTTP request sent, awaiting response... 200 OK\n",
            "Length: 1002883 (979K) [application/java-archive]\n",
            "Saving to: ‘postgresql-42.2.16.jar.1’\n",
            "\n",
            "postgresql-42.2.16. 100%[===================>] 979.38K  4.89MB/s    in 0.2s    \n",
            "\n",
            "2022-01-25 02:53:28 (4.89 MB/s) - ‘postgresql-42.2.16.jar.1’ saved [1002883/1002883]\n",
            "\n"
          ]
        }
      ]
    },
    {
      "cell_type": "code",
      "source": [
        "from pyspark.sql import SparkSession\n",
        "spark = SparkSession.builder.appName(\"M16-Amazon-Challenge\").config(\"spark.driver.extraClassPath\",\"/content/postgresql-42.2.16.jar\").getOrCreate()"
      ],
      "metadata": {
        "id": "7cqD6LDwxiBA"
      },
      "execution_count": 3,
      "outputs": []
    },
    {
      "cell_type": "code",
      "source": [
        "from pyspark import SparkFiles\n",
        "url = \"https://s3.amazonaws.com/amazon-reviews-pds/tsv/amazon_reviews_us_Automotive_v1_00.tsv.gz\"\n",
        "spark.sparkContext.addFile(url)\n",
        "df = spark.read.option(\"encoding\", \"UTF-8\").csv(SparkFiles.get(\"\"), sep=\"\\t\", header=True, inferSchema=True)\n",
        "df.show()"
      ],
      "metadata": {
        "colab": {
          "base_uri": "https://localhost:8080/"
        },
        "id": "bNJB8N8p1zSY",
        "outputId": "15fd6061-683e-49c6-e9cf-399f929d8eb6"
      },
      "execution_count": 4,
      "outputs": [
        {
          "output_type": "stream",
          "name": "stdout",
          "text": [
            "+-----------+-----------+--------------+----------+--------------+--------------------+----------------+-----------+-------------+-----------+----+-----------------+--------------------+--------------------+-----------+\n",
            "|marketplace|customer_id|     review_id|product_id|product_parent|       product_title|product_category|star_rating|helpful_votes|total_votes|vine|verified_purchase|     review_headline|         review_body|review_date|\n",
            "+-----------+-----------+--------------+----------+--------------+--------------------+----------------+-----------+-------------+-----------+----+-----------------+--------------------+--------------------+-----------+\n",
            "|         US|   36075342| RAB23OVFNCXZQ|B00LPRXQ4Y|     339193102|17\" 2003-2006 For...|      Automotive|          1|            0|          0|   N|                Y|     As it was used,|As it was used, t...| 2015-08-31|\n",
            "|         US|   42462164|R3NORADVJO6IE6|B000C7S0TO|     907684644|Spectra Premium C...|      Automotive|          5|            0|          0|   N|                Y|          Five Stars|Put it in fine, n...| 2015-08-31|\n",
            "|         US|   21241933|R299F4SO98S5OO|B000CO9WE4|     752246352|K&N E-4665 High P...|      Automotive|          5|            1|          1|   N|                Y|Great fit and per...|Fit wonderfully o...| 2015-08-31|\n",
            "|         US|   52570308|R2DA9DOT03UW6I|B000GKD5NI|     105401756|Suncutters Rear W...|      Automotive|          5|            2|          3|   N|                Y|Good for the pric...|Good for the pric...| 2015-08-31|\n",
            "|         US|   38200102|R2OGCH681EQHU6|B009SDA7TE|     728471129|Lug Nuts Landcrui...|      Automotive|          5|            0|          0|   N|                Y|          Five Stars|Fit perfectly on ...| 2015-08-31|\n",
            "|         US|   34866169| R2JMKIC16MHD7|B00KV15KRG|     962286893|Fits 2007-2009 Ho...|      Automotive|          5|            2|          2|   N|                Y|Fit Well and Bett...|Product fits well...| 2015-08-31|\n",
            "|         US|     184627|R1DB5DA7CWWTI8|B0002JMAKW|     267002949|Castrol 12614 Dot...|      Automotive|          5|            0|          0|   N|                Y|convenient, fast ...|convenient ,fast ...| 2015-08-31|\n",
            "|         US|    2975964|R1N8XWFDK4QACP|B00XJKMM6S|     570789093|New Power Window ...|      Automotive|          5|            0|          0|   N|                Y|          Five Stars|             is good| 2015-08-31|\n",
            "|         US|   40946484|R19VFLX6MRU0CX|B000C5CEKC|     389524802|Motorad MGC-791 L...|      Automotive|          5|            0|          0|   N|                Y|GOOD deal.  Great...|wonderful.  if yo...| 2015-08-31|\n",
            "|         US|   12554469| RLTD8YDGTP9PT|B00GD9R2A8|      21425394|Genuine Ford AL3Z...|      Automotive|          1|            0|          0|   N|                Y|Does not fit my F...|Does not work wit...| 2015-08-31|\n",
            "|         US|   35335277| R78B5LCFJ52SR|B00RM327NG|     816815445|Air Vent Smartpho...|      Automotive|          4|            0|          0|   N|                Y|            Not bad!|I really loved th...| 2015-08-31|\n",
            "|         US|   44957003|R33SKWL0HEQIQ9|B0071NL7UQ|     192225755|FDJ New Replaceme...|      Automotive|          5|            0|          0|   N|                Y|          Five Stars| Just what I wanted.| 2015-08-31|\n",
            "|         US|     444125|R1HIOV0UX7P13D|B00DSOL0FY|     849414056|Omix-Ada 17402.09...|      Automotive|          5|            0|          0|   N|                Y|          Five Stars|Great product and...| 2015-08-31|\n",
            "|         US|   35829199| R4WS0E0MSP9DH|B00GRV48TK|     651316983|GMB 530-2480 Fuel...|      Automotive|          5|            2|          2|   N|                Y|           Well made|Appears to be wel...| 2015-08-31|\n",
            "|         US|   16825098| R2RUIDUMDKG7P|B000E4PCGE|     694793259|00-03 NISSAN SENT...|      Automotive|          3|            0|          0|   N|                Y|new and a great l...|Product was as de...| 2015-08-31|\n",
            "|         US|    2583392| RZSA6L4M4D4XA|B005Z8HAUK|     732072782|Slime 40026 2X He...|      Automotive|          5|            0|          0|   N|                Y|          Five Stars|SO much quieter t...| 2015-08-31|\n",
            "|         US|   10127903|R1O3NGQNCFXKR6|B0043AV4NK|     533179941|MegaBrand N1 4\" B...|      Automotive|          5|            0|          0|   N|                Y|              decent|Great for the pri...| 2015-08-31|\n",
            "|         US|   17937309|R2IEM66RCBJ95A|B00CDHD76C|     126169507|Jackly 45-in-One ...|      Automotive|          5|            0|          0|   N|                Y|Nice set of tools...|Nice set of tools...| 2015-08-31|\n",
            "|         US|   17145638|R2BQ9O517KSCP8|B000CF1XO0|     475232737|Bosch 3397118942 ...|      Automotive|          5|            0|          0|   N|                N|          Five Stars|       Everything ok| 2015-08-31|\n",
            "|         US|   32813839|R1KF86427VR7AC|B003VLBPJA|     897802619|Heavy-Duty 15\" Ca...|      Automotive|          3|            0|          0|   N|                Y|         Three Stars|I hope the hooks ...| 2015-08-31|\n",
            "+-----------+-----------+--------------+----------+--------------+--------------------+----------------+-----------+-------------+-----------+----+-----------------+--------------------+--------------------+-----------+\n",
            "only showing top 20 rows\n",
            "\n"
          ]
        }
      ]
    },
    {
      "cell_type": "code",
      "source": [
        "# Filter the DataFrame for total_votes above or equal to 20\n",
        "total_df = df.filter(df.total_votes >= 20)\n",
        "total_df.show()"
      ],
      "metadata": {
        "colab": {
          "base_uri": "https://localhost:8080/"
        },
        "id": "gnuCtfW62KFs",
        "outputId": "2c7e45aa-0531-47d8-e1de-8edb03c74279"
      },
      "execution_count": 5,
      "outputs": [
        {
          "output_type": "stream",
          "name": "stdout",
          "text": [
            "+-----------+-----------+--------------+----------+--------------+--------------------+----------------+-----------+-------------+-----------+----+-----------------+--------------------+--------------------+-----------+\n",
            "|marketplace|customer_id|     review_id|product_id|product_parent|       product_title|product_category|star_rating|helpful_votes|total_votes|vine|verified_purchase|     review_headline|         review_body|review_date|\n",
            "+-----------+-----------+--------------+----------+--------------+--------------------+----------------+-----------+-------------+-----------+----+-----------------+--------------------+--------------------+-----------+\n",
            "|         US|   36886257|R1T4FVSABO0IDP|B00V03D9KY|     966609438|Lukas Lk-7950 WD ...|      Automotive|          5|            8|         31|   N|                Y|      Great Value!!!|LK-7950 is an out...| 2015-08-31|\n",
            "|         US|   21035025|R397VXR1GAK6C9|B00IS941D2|     373170065|EAG 07-17 Jeep Wr...|      Automotive|          5|           21|         21|   N|                Y|Awesome bumper. I...|Awesome bumper. I...| 2015-08-31|\n",
            "|         US|   11359139|R2H6KB9RHS17GA|B00VNBDWPK|     790984844|OPT7 Fluxbeam LED...|      Automotive|          3|           59|         69|   N|                Y|Great bulb with a...|These bulbs are g...| 2015-08-31|\n",
            "|         US|   30634293|R3HAK0MUN9F5IT|B00UW4DLJ6|     591002423|Brightech - SCORP...|      Automotive|          1|            6|         28|   N|                Y|            One Star|Sparks flew out o...| 2015-08-31|\n",
            "|         US|   43577705|R29UTZTOPUVRSV|B0101SLT5U|     735754927|Crystal Bling Car...|      Automotive|          5|           21|         21|   N|                Y|             LOVE IT|I absolutely LOVE...| 2015-08-31|\n",
            "|         US|   11599061| RY9FLUD8VG6XD|B009W85R4A|     415177022|Full Size Truck B...|      Automotive|          4|           27|         32|   N|                Y|Fits my 2000 Chev...|Fits my 2000 Chev...| 2015-08-31|\n",
            "|         US|   14562622|R3Q5NAY8BGAKHI|B000GQA8DC|     228692727|Rampage Jeep 3922...|      Automotive|          5|           34|         40|   N|                Y|          Five Stars|            Love it!| 2015-08-31|\n",
            "|         US|   52600055| RRVJ7TYDEK7EO|B002G3OG6S|     845275995|Bosch Aerotwin 33...|      Automotive|          5|           30|         30|   N|                Y|Is the the right ...|These wipers fit ...| 2015-08-31|\n",
            "|         US|   13188223|R2S4CHISQA2WDH|B00LAJTEFW|     592035376|VTR TR-416 1 1/2\"...|      Automotive|          5|           17|         20|   N|                Y|F250's rubber val...|I have an F250 an...| 2015-08-31|\n",
            "|         US|   47664434|R1JNALJ77OULPH|B00G620ZVU|     838834695|Nilight Driving F...|      Automotive|          4|           57|         65|   N|                Y|So far so good, b...|These lights look...| 2015-08-31|\n",
            "|         US|   12510444|R13YNG792BCR77|B00JZQXJ3K|     411955465|TYGER Towing Comb...|      Automotive|          5|           19|         20|   N|                Y|I decided to buy ...|So I bought a new...| 2015-08-31|\n",
            "|         US|   31186838|R1RYG8MVOPK4Q2|B00OHZ20X4|      87658863|AutoFloorGuard Co...|      Automotive|          5|           18|         20|   N|                Y|Critical Applicat...|I'm extremely sat...| 2015-08-31|\n",
            "|         US|   47900707|R2V9VX4YQ8TQ24|B00BD4YH24|     618386404|OxGord Flat Cloth...|      Automotive|          5|           33|         36|   N|                Y|          Five Stars|       They are nice| 2015-08-31|\n",
            "|         US|   47501591|R2UCJ0GANHZVA8|B00B5LMAVA|     567135917|Chevy Camaro Arti...|      Automotive|          5|           21|         21|   N|                Y|           Awesome !|After seeing posi...| 2015-08-31|\n",
            "|         US|    3910488| R8MJZ3925MBK0|B0002TDUW4|     729831922|Herculiner HCL1B8...|      Automotive|          5|           96|         98|   N|                Y|Excellent Bed Liner!|I am really impre...| 2015-08-31|\n",
            "|         US|   10194150|R378YNR0LMM3DP|B00QJRYMFC|     439690883|LELink Bluetooth ...|      Automotive|          2|           41|         47|   N|                Y|It Works Ok - But...|I read all the re...| 2015-08-31|\n",
            "|         US|    1772089|R2UIEYEJPJC9EM|B011DFTJTI|     774725118|PCC Motor DB40A 5...|      Automotive|          5|           64|         70|   N|                N|          Five Stars|It's comes assemb...| 2015-08-31|\n",
            "|         US|   19025823| RX2K8ERZ5BENR|B00FH8P1DG|     533775870|Tenviii 42\" Inch ...|      Automotive|          5|           52|         56|   N|                Y|At this price, I ...|I think I bought ...| 2015-08-31|\n",
            "|         US|   20612348|R34VOML4JURU4E|B00NHBYOA6|     615708329|Wagan (EL6224) 12...|      Automotive|          1|           34|         35|   N|                Y|Cooler fails with...|The cooler worked...| 2015-08-31|\n",
            "|         US|   43075752|R21FPJN76XM6J8|B00T62RK1U|     939339824|Auxbeam LED Light...|      Automotive|          3|           43|         52|   N|                Y|THESE ARE NOT AUX...|I bought these pa...| 2015-08-30|\n",
            "+-----------+-----------+--------------+----------+--------------+--------------------+----------------+-----------+-------------+-----------+----+-----------------+--------------------+--------------------+-----------+\n",
            "only showing top 20 rows\n",
            "\n"
          ]
        }
      ]
    },
    {
      "cell_type": "code",
      "source": [
        "# Filter the DataFrame for helpful_votes ratio above or equal to 50%\n",
        "helpful_df = total_df.filter((total_df.helpful_votes / total_df.total_votes) >= 0.5)\n",
        "helpful_df.show()"
      ],
      "metadata": {
        "colab": {
          "base_uri": "https://localhost:8080/"
        },
        "id": "yXLe4RtA2qn5",
        "outputId": "c2def9dd-1b47-4667-c812-010551ffacb0"
      },
      "execution_count": 6,
      "outputs": [
        {
          "output_type": "stream",
          "name": "stdout",
          "text": [
            "+-----------+-----------+--------------+----------+--------------+--------------------+----------------+-----------+-------------+-----------+----+-----------------+--------------------+--------------------+-----------+\n",
            "|marketplace|customer_id|     review_id|product_id|product_parent|       product_title|product_category|star_rating|helpful_votes|total_votes|vine|verified_purchase|     review_headline|         review_body|review_date|\n",
            "+-----------+-----------+--------------+----------+--------------+--------------------+----------------+-----------+-------------+-----------+----+-----------------+--------------------+--------------------+-----------+\n",
            "|         US|   21035025|R397VXR1GAK6C9|B00IS941D2|     373170065|EAG 07-17 Jeep Wr...|      Automotive|          5|           21|         21|   N|                Y|Awesome bumper. I...|Awesome bumper. I...| 2015-08-31|\n",
            "|         US|   11359139|R2H6KB9RHS17GA|B00VNBDWPK|     790984844|OPT7 Fluxbeam LED...|      Automotive|          3|           59|         69|   N|                Y|Great bulb with a...|These bulbs are g...| 2015-08-31|\n",
            "|         US|   43577705|R29UTZTOPUVRSV|B0101SLT5U|     735754927|Crystal Bling Car...|      Automotive|          5|           21|         21|   N|                Y|             LOVE IT|I absolutely LOVE...| 2015-08-31|\n",
            "|         US|   11599061| RY9FLUD8VG6XD|B009W85R4A|     415177022|Full Size Truck B...|      Automotive|          4|           27|         32|   N|                Y|Fits my 2000 Chev...|Fits my 2000 Chev...| 2015-08-31|\n",
            "|         US|   14562622|R3Q5NAY8BGAKHI|B000GQA8DC|     228692727|Rampage Jeep 3922...|      Automotive|          5|           34|         40|   N|                Y|          Five Stars|            Love it!| 2015-08-31|\n",
            "|         US|   52600055| RRVJ7TYDEK7EO|B002G3OG6S|     845275995|Bosch Aerotwin 33...|      Automotive|          5|           30|         30|   N|                Y|Is the the right ...|These wipers fit ...| 2015-08-31|\n",
            "|         US|   13188223|R2S4CHISQA2WDH|B00LAJTEFW|     592035376|VTR TR-416 1 1/2\"...|      Automotive|          5|           17|         20|   N|                Y|F250's rubber val...|I have an F250 an...| 2015-08-31|\n",
            "|         US|   47664434|R1JNALJ77OULPH|B00G620ZVU|     838834695|Nilight Driving F...|      Automotive|          4|           57|         65|   N|                Y|So far so good, b...|These lights look...| 2015-08-31|\n",
            "|         US|   12510444|R13YNG792BCR77|B00JZQXJ3K|     411955465|TYGER Towing Comb...|      Automotive|          5|           19|         20|   N|                Y|I decided to buy ...|So I bought a new...| 2015-08-31|\n",
            "|         US|   31186838|R1RYG8MVOPK4Q2|B00OHZ20X4|      87658863|AutoFloorGuard Co...|      Automotive|          5|           18|         20|   N|                Y|Critical Applicat...|I'm extremely sat...| 2015-08-31|\n",
            "|         US|   47900707|R2V9VX4YQ8TQ24|B00BD4YH24|     618386404|OxGord Flat Cloth...|      Automotive|          5|           33|         36|   N|                Y|          Five Stars|       They are nice| 2015-08-31|\n",
            "|         US|   47501591|R2UCJ0GANHZVA8|B00B5LMAVA|     567135917|Chevy Camaro Arti...|      Automotive|          5|           21|         21|   N|                Y|           Awesome !|After seeing posi...| 2015-08-31|\n",
            "|         US|    3910488| R8MJZ3925MBK0|B0002TDUW4|     729831922|Herculiner HCL1B8...|      Automotive|          5|           96|         98|   N|                Y|Excellent Bed Liner!|I am really impre...| 2015-08-31|\n",
            "|         US|   10194150|R378YNR0LMM3DP|B00QJRYMFC|     439690883|LELink Bluetooth ...|      Automotive|          2|           41|         47|   N|                Y|It Works Ok - But...|I read all the re...| 2015-08-31|\n",
            "|         US|    1772089|R2UIEYEJPJC9EM|B011DFTJTI|     774725118|PCC Motor DB40A 5...|      Automotive|          5|           64|         70|   N|                N|          Five Stars|It's comes assemb...| 2015-08-31|\n",
            "|         US|   19025823| RX2K8ERZ5BENR|B00FH8P1DG|     533775870|Tenviii 42\" Inch ...|      Automotive|          5|           52|         56|   N|                Y|At this price, I ...|I think I bought ...| 2015-08-31|\n",
            "|         US|   20612348|R34VOML4JURU4E|B00NHBYOA6|     615708329|Wagan (EL6224) 12...|      Automotive|          1|           34|         35|   N|                Y|Cooler fails with...|The cooler worked...| 2015-08-31|\n",
            "|         US|   43075752|R21FPJN76XM6J8|B00T62RK1U|     939339824|Auxbeam LED Light...|      Automotive|          3|           43|         52|   N|                Y|THESE ARE NOT AUX...|I bought these pa...| 2015-08-30|\n",
            "|         US|     121940|R1YMR7QJ7OR3DE|B00WFHYZE8|     441278164|Innovative Perfor...|      Automotive|          1|           21|         22|   N|                Y|I have had this p...|I have had this p...| 2015-08-30|\n",
            "|         US|   12028828|R104OMNNT1A7HJ|B0002LBGX2|      95530996|P21S Concours Car...|      Automotive|          5|           20|         24|   N|                Y|      Love This Wax!|it goes on so eas...| 2015-08-30|\n",
            "+-----------+-----------+--------------+----------+--------------+--------------------+----------------+-----------+-------------+-----------+----+-----------------+--------------------+--------------------+-----------+\n",
            "only showing top 20 rows\n",
            "\n"
          ]
        }
      ]
    },
    {
      "cell_type": "code",
      "source": [
        "# Create a paid Vine reviews program DataFrame\n",
        "paid_df = helpful_df.filter(helpful_df.vine == 'Y')\n",
        "paid_df.show()"
      ],
      "metadata": {
        "colab": {
          "base_uri": "https://localhost:8080/"
        },
        "id": "fTeRZY1o6BJx",
        "outputId": "50ababfe-f815-4c11-f460-695ae2970bd3"
      },
      "execution_count": 7,
      "outputs": [
        {
          "output_type": "stream",
          "name": "stdout",
          "text": [
            "+-----------+-----------+--------------+----------+--------------+--------------------+----------------+-----------+-------------+-----------+----+-----------------+--------------------+--------------------+-----------+\n",
            "|marketplace|customer_id|     review_id|product_id|product_parent|       product_title|product_category|star_rating|helpful_votes|total_votes|vine|verified_purchase|     review_headline|         review_body|review_date|\n",
            "+-----------+-----------+--------------+----------+--------------+--------------------+----------------+-----------+-------------+-----------+----+-----------------+--------------------+--------------------+-----------+\n",
            "|         US|   35560012| REKN4PLM5174P|B00P9OF04I|      44916596|Meguiar's Heavy D...|      Automotive|          4|          219|        225|   Y|                N|Head 2 Head, It's...|Having come into ...| 2015-07-08|\n",
            "|         US|   52693410| RQOG8IIJX7CKB|B00P9OF04I|      44916596|Meguiar's Heavy D...|      Automotive|          4|           21|         27|   Y|                N|it cleans well en...|After nearly 8 an...| 2015-05-06|\n",
            "|         US|   51881294|R33EJ9PSZR13CM|B00PA2LMVY|     752637486|Griot's Garage 10...|      Automotive|          4|           26|         30|   Y|                N|Griot's Garage Br...|I decided to do a...| 2015-04-10|\n",
            "|         US|   34159914| RD2BFV896F321|B00JF5HR7K|     738632753|CURT Basket Style...|      Automotive|          5|           16|         20|   Y|                N|      Indespensible!|I have a family o...| 2015-04-08|\n",
            "|         US|   42466433|R37GSXLA11XF8N|B001TFE38A|     251522966|Chemical Guys (WA...|      Automotive|          5|           30|         34|   Y|                N|An exceptional pr...|As a youth I had ...| 2014-12-31|\n",
            "|         US|   49698652| RQBQYBM9VMSH4|B00FALW57K|     263596971|Chemical Guys Eas...|      Automotive|          5|           19|         20|   Y|                N|Much Better Than ...|I have been using...| 2014-12-26|\n",
            "|         US|   51302590|R2YE4F9ESKFWEK|B00MBPLPOC|     905487198|Wipe New TRTLKIT ...|      Automotive|          3|           20|         23|   Y|                N|After Shining my ...|Wipe New Tires is...| 2014-11-22|\n",
            "|         US|   50738297|R1E4L7HHB8TBP9|B00G8WLT7C|     926772123|NOCO 12V Plug Soc...|      Automotive|          4|           80|         92|   Y|                N|High quality prod...|The NOCO GC020 12...| 2014-11-11|\n",
            "|         US|   44012949|R2C2WXDXMZL005|B00K889FCI|     929965227|Wipe New HDL6PCMT...|      Automotive|          2|           20|         25|   Y|                N|Deceptively descr...|As others have me...| 2014-11-11|\n",
            "|         US|   45164643|R1PPY4U0K03KTE|B00IOBSXQ0|     599686141|Turtle Wax T-12KT...|      Automotive|          5|           31|         38|   Y|                N|...And Turtle Wax...|...And Turtle Wax...| 2014-09-29|\n",
            "|         US|   49442099|R12SMR88Q45MWQ|B00MB0CTBU|     894850343|Bell Automotive 2...|      Automotive|          3|           23|         24|   Y|                N|Ok up to 30 pound...|Out of the box I ...| 2014-09-15|\n",
            "|         US|   45515977|R188VWFDBDWRR0|B00GZHC0FU|     219410268|GE Nighthawk Xeno...|      Automotive|          4|           35|         38|   Y|                N|I was skeptical o...|[[VIDEOID:mo30FRK...| 2014-09-08|\n",
            "|         US|   49869778| RUE8J5M74KJUP|B00HH1IFRA|     874548923|Innova 3211 QUICK...|      Automotive|          1|           37|         42|   Y|                N|Innova's 'Crack T...|For the record, I...| 2014-07-30|\n",
            "|         US|   51003421|R3IMZIN7Y64IP1|B00HH1IFRA|     874548923|Innova 3211 QUICK...|      Automotive|          1|           19|         23|   Y|                N|Requires register...|Useless. I have b...| 2014-07-25|\n",
            "|         US|   49346733|R17RGR2YSZ5UDG|B00EVY344K|     414523282|AmazonBasics Dryi...|      Automotive|          4|           19|         24|   Y|                N|Classic style dry...|Prior to the adve...| 2014-06-02|\n",
            "|         US|   35360512|R2SBNSIBLPIIG6|B00EVY2SKG|      40091168|AmazonBasics Thic...|      Automotive|          4|           47|         53|   Y|                N|Another winner fr...|AmazonBasics does...| 2014-05-24|\n",
            "|         US|   25602932|R197MLUGNBO8SK|B00HJ6O4A0|     578982215|Camco Striped Han...|      Automotive|          5|           24|         29|   Y|                N|Much bigger than ...|This is a nice lo...| 2014-05-23|\n",
            "|         US|   24434209|R21QBM40D91D00|B00HJ6O4A0|     578982215|Camco Striped Han...|      Automotive|          3|           18|         25|   Y|                N|           It's Okay|The handy mat can...| 2014-05-15|\n",
            "|         US|   45984063|R1Z5U87WQ4LVJG|B00HJ6O4A0|     578982215|Camco Striped Han...|      Automotive|          4|           89|        101|   Y|                N|It works, better ...|I thought we woul...| 2014-05-15|\n",
            "|         US|   52755608| RAT9CVRLRHXQZ|B00EVY2SKG|      40091168|AmazonBasics Thic...|      Automotive|          5|           50|         54|   Y|                N|    Excellent cloths|AmazonBasics Thic...| 2014-05-07|\n",
            "+-----------+-----------+--------------+----------+--------------+--------------------+----------------+-----------+-------------+-----------+----+-----------------+--------------------+--------------------+-----------+\n",
            "only showing top 20 rows\n",
            "\n"
          ]
        }
      ]
    },
    {
      "cell_type": "code",
      "source": [
        "# Create an unpaid Vine reviews program DataFrame\n",
        "unpaid_df = helpful_df.filter(helpful_df.vine == 'N')\n",
        "unpaid_df.show()"
      ],
      "metadata": {
        "colab": {
          "base_uri": "https://localhost:8080/"
        },
        "id": "zGRpKb7P6bsY",
        "outputId": "156ffb69-d909-48a1-ea39-47f4c2fa9310"
      },
      "execution_count": 8,
      "outputs": [
        {
          "output_type": "stream",
          "name": "stdout",
          "text": [
            "+-----------+-----------+--------------+----------+--------------+--------------------+----------------+-----------+-------------+-----------+----+-----------------+--------------------+--------------------+-----------+\n",
            "|marketplace|customer_id|     review_id|product_id|product_parent|       product_title|product_category|star_rating|helpful_votes|total_votes|vine|verified_purchase|     review_headline|         review_body|review_date|\n",
            "+-----------+-----------+--------------+----------+--------------+--------------------+----------------+-----------+-------------+-----------+----+-----------------+--------------------+--------------------+-----------+\n",
            "|         US|   21035025|R397VXR1GAK6C9|B00IS941D2|     373170065|EAG 07-17 Jeep Wr...|      Automotive|          5|           21|         21|   N|                Y|Awesome bumper. I...|Awesome bumper. I...| 2015-08-31|\n",
            "|         US|   11359139|R2H6KB9RHS17GA|B00VNBDWPK|     790984844|OPT7 Fluxbeam LED...|      Automotive|          3|           59|         69|   N|                Y|Great bulb with a...|These bulbs are g...| 2015-08-31|\n",
            "|         US|   43577705|R29UTZTOPUVRSV|B0101SLT5U|     735754927|Crystal Bling Car...|      Automotive|          5|           21|         21|   N|                Y|             LOVE IT|I absolutely LOVE...| 2015-08-31|\n",
            "|         US|   11599061| RY9FLUD8VG6XD|B009W85R4A|     415177022|Full Size Truck B...|      Automotive|          4|           27|         32|   N|                Y|Fits my 2000 Chev...|Fits my 2000 Chev...| 2015-08-31|\n",
            "|         US|   14562622|R3Q5NAY8BGAKHI|B000GQA8DC|     228692727|Rampage Jeep 3922...|      Automotive|          5|           34|         40|   N|                Y|          Five Stars|            Love it!| 2015-08-31|\n",
            "|         US|   52600055| RRVJ7TYDEK7EO|B002G3OG6S|     845275995|Bosch Aerotwin 33...|      Automotive|          5|           30|         30|   N|                Y|Is the the right ...|These wipers fit ...| 2015-08-31|\n",
            "|         US|   13188223|R2S4CHISQA2WDH|B00LAJTEFW|     592035376|VTR TR-416 1 1/2\"...|      Automotive|          5|           17|         20|   N|                Y|F250's rubber val...|I have an F250 an...| 2015-08-31|\n",
            "|         US|   47664434|R1JNALJ77OULPH|B00G620ZVU|     838834695|Nilight Driving F...|      Automotive|          4|           57|         65|   N|                Y|So far so good, b...|These lights look...| 2015-08-31|\n",
            "|         US|   12510444|R13YNG792BCR77|B00JZQXJ3K|     411955465|TYGER Towing Comb...|      Automotive|          5|           19|         20|   N|                Y|I decided to buy ...|So I bought a new...| 2015-08-31|\n",
            "|         US|   31186838|R1RYG8MVOPK4Q2|B00OHZ20X4|      87658863|AutoFloorGuard Co...|      Automotive|          5|           18|         20|   N|                Y|Critical Applicat...|I'm extremely sat...| 2015-08-31|\n",
            "|         US|   47900707|R2V9VX4YQ8TQ24|B00BD4YH24|     618386404|OxGord Flat Cloth...|      Automotive|          5|           33|         36|   N|                Y|          Five Stars|       They are nice| 2015-08-31|\n",
            "|         US|   47501591|R2UCJ0GANHZVA8|B00B5LMAVA|     567135917|Chevy Camaro Arti...|      Automotive|          5|           21|         21|   N|                Y|           Awesome !|After seeing posi...| 2015-08-31|\n",
            "|         US|    3910488| R8MJZ3925MBK0|B0002TDUW4|     729831922|Herculiner HCL1B8...|      Automotive|          5|           96|         98|   N|                Y|Excellent Bed Liner!|I am really impre...| 2015-08-31|\n",
            "|         US|   10194150|R378YNR0LMM3DP|B00QJRYMFC|     439690883|LELink Bluetooth ...|      Automotive|          2|           41|         47|   N|                Y|It Works Ok - But...|I read all the re...| 2015-08-31|\n",
            "|         US|    1772089|R2UIEYEJPJC9EM|B011DFTJTI|     774725118|PCC Motor DB40A 5...|      Automotive|          5|           64|         70|   N|                N|          Five Stars|It's comes assemb...| 2015-08-31|\n",
            "|         US|   19025823| RX2K8ERZ5BENR|B00FH8P1DG|     533775870|Tenviii 42\" Inch ...|      Automotive|          5|           52|         56|   N|                Y|At this price, I ...|I think I bought ...| 2015-08-31|\n",
            "|         US|   20612348|R34VOML4JURU4E|B00NHBYOA6|     615708329|Wagan (EL6224) 12...|      Automotive|          1|           34|         35|   N|                Y|Cooler fails with...|The cooler worked...| 2015-08-31|\n",
            "|         US|   43075752|R21FPJN76XM6J8|B00T62RK1U|     939339824|Auxbeam LED Light...|      Automotive|          3|           43|         52|   N|                Y|THESE ARE NOT AUX...|I bought these pa...| 2015-08-30|\n",
            "|         US|     121940|R1YMR7QJ7OR3DE|B00WFHYZE8|     441278164|Innovative Perfor...|      Automotive|          1|           21|         22|   N|                Y|I have had this p...|I have had this p...| 2015-08-30|\n",
            "|         US|   12028828|R104OMNNT1A7HJ|B0002LBGX2|      95530996|P21S Concours Car...|      Automotive|          5|           20|         24|   N|                Y|      Love This Wax!|it goes on so eas...| 2015-08-30|\n",
            "+-----------+-----------+--------------+----------+--------------+--------------------+----------------+-----------+-------------+-----------+----+-----------------+--------------------+--------------------+-----------+\n",
            "only showing top 20 rows\n",
            "\n"
          ]
        }
      ]
    },
    {
      "cell_type": "code",
      "source": [
        "# Total number of reviews\n",
        "total_reviews = helpful_df.count()\n",
        "total_reviews"
      ],
      "metadata": {
        "colab": {
          "base_uri": "https://localhost:8080/"
        },
        "id": "zAlPDSJg6rCl",
        "outputId": "9040e11d-c81c-4f9c-b971-842dac80868a"
      },
      "execution_count": 9,
      "outputs": [
        {
          "output_type": "execute_result",
          "data": {
            "text/plain": [
              "24824"
            ]
          },
          "metadata": {},
          "execution_count": 9
        }
      ]
    },
    {
      "cell_type": "code",
      "source": [
        "# Total number of 5-star reviews\n",
        "five_star_reviews = helpful_df.filter(helpful_df.star_rating == 5).count()\n",
        "five_star_reviews"
      ],
      "metadata": {
        "colab": {
          "base_uri": "https://localhost:8080/"
        },
        "id": "HwCsdptr9o12",
        "outputId": "d9285e46-f745-49da-cb3f-de8dbbeb9893"
      },
      "execution_count": 10,
      "outputs": [
        {
          "output_type": "execute_result",
          "data": {
            "text/plain": [
              "12840"
            ]
          },
          "metadata": {},
          "execution_count": 10
        }
      ]
    },
    {
      "cell_type": "code",
      "source": [
        "# Total paid reviews\n",
        "total_paid_reviews = helpful_df.filter(\"vine =='Y'\")\n",
        "total_paid_reviews_count = total_paid_reviews.count()\n",
        "total_paid_reviews_count\n",
        "\n",
        "# Total five-star paid reviews\n",
        "paid_five_star = total_paid_reviews.filter(\"star_rating == 5\")\n",
        "total_paid_five_star = paid_five_star.count()\n",
        "total_paid_five_star\n",
        "\n",
        "# Percentage of paid 5-star reviews\n",
        "paid_five_star_percent = (total_paid_five_star / five_star_reviews) * 100\n",
        "paid_five_star_percent"
      ],
      "metadata": {
        "colab": {
          "base_uri": "https://localhost:8080/"
        },
        "id": "EBKBu6ss93Ys",
        "outputId": "6f2f99d3-5ddb-4419-fd63-fbd8f60f1c61"
      },
      "execution_count": 12,
      "outputs": [
        {
          "output_type": "execute_result",
          "data": {
            "text/plain": [
              "0.25700934579439255"
            ]
          },
          "metadata": {},
          "execution_count": 12
        }
      ]
    },
    {
      "cell_type": "code",
      "source": [
        "# Total unpaid reviews\n",
        "total_unpaid_reviews = helpful_df.filter(\"vine =='Y'\")\n",
        "total_unpaid_reviews_count = total_unpaid_reviews.count()\n",
        "total_unpaid_reviews_count\n",
        "\n",
        "# Total five-star unpaid reviews\n",
        "unpaid_five_star = total_paid_reviews.filter(\"star_rating == 5\")\n",
        "total_unpaid_five_star = unpaid_five_star.count()\n",
        "total_unpaid_five_star\n",
        "\n",
        "# Percentage of unpaid 5-star reviews\n",
        "unpaid_five_star_percent = (total_unpaid_five_star / five_star_reviews) * 100\n",
        "unpaid_five_star_percent"
      ],
      "metadata": {
        "colab": {
          "base_uri": "https://localhost:8080/"
        },
        "id": "G8MPSoNJ-A6M",
        "outputId": "713fd75f-9093-4fbd-f25e-cc2a4969905c"
      },
      "execution_count": 14,
      "outputs": [
        {
          "output_type": "execute_result",
          "data": {
            "text/plain": [
              "0.25700934579439255"
            ]
          },
          "metadata": {},
          "execution_count": 14
        }
      ]
    }
  ]
}